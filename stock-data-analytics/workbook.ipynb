{
 "cells": [
  {
   "cell_type": "code",
   "execution_count": null,
   "metadata": {},
   "outputs": [],
   "source": [
    "import pandas as pd\n",
    "\n",
    "df_index_data = pd.read_csv(\"datasets/indexData.csv\")\n",
    "# print(df_index_data.head())\n",
    "\n",
    "df_index_info = pd.read_csv('datasets/indexInfo.csv')\n",
    "# print(df_index_info.head())\n",
    "\n",
    "df_index_processed = pd.read_csv('datasets/indexProcessed.csv')\n",
    "# print(df_index_processed.head())\n",
    "\n",
    "print(df_index_data.describe())\n",
    "print(df_index_info.describe())\n",
    "print(df_index_processed.describe())\n"
   ]
  },
  {
   "cell_type": "code",
   "execution_count": 20,
   "metadata": {},
   "outputs": [
    {
     "name": "stdout",
     "output_type": "stream",
     "text": [
      "          Index        Date          Open          High           Low  \\\n",
      "0           NYA  1965-12-31    528.690002    528.690002    528.690002   \n",
      "1           NYA  1966-01-03    527.210022    527.210022    527.210022   \n",
      "2           NYA  1966-01-04    527.840027    527.840027    527.840027   \n",
      "3           NYA  1966-01-05    531.119995    531.119995    531.119995   \n",
      "4           NYA  1966-01-06    532.070007    532.070007    532.070007   \n",
      "...         ...         ...           ...           ...           ...   \n",
      "104217  J203.JO  2021-05-21  66124.437500  66771.343750  66124.437500   \n",
      "104218  J203.JO  2021-05-24  66238.929690  66493.132810  65940.257810   \n",
      "104219  J203.JO  2021-05-25  66054.921880  66812.453130  66022.976560   \n",
      "104220  J203.JO  2021-05-26  66076.679690  66446.367190  66030.351560   \n",
      "104221  J203.JO  2021-05-27  66108.226560  66940.250000  66102.546880   \n",
      "\n",
      "               Close     Adj Close  Volume     CloseUSD  \n",
      "0         528.690002    528.690002     0.0          NaN  \n",
      "1         527.210022    527.210022     0.0          NaN  \n",
      "2         527.840027    527.840027     0.0          NaN  \n",
      "3         531.119995    531.119995     0.0          NaN  \n",
      "4         532.070007    532.070007     0.0          NaN  \n",
      "...              ...           ...     ...          ...  \n",
      "104217  66238.929690  66238.929690     0.0  4636.725078  \n",
      "104218  66054.921880  66054.921880     0.0  4623.844532  \n",
      "104219  66076.679690  66076.679690     0.0  4625.367578  \n",
      "104220  66108.226560  66108.226560     0.0  4627.575859  \n",
      "104221  66940.250000  66940.250000     0.0  4685.817500  \n",
      "\n",
      "[216679 rows x 9 columns]\n"
     ]
    }
   ],
   "source": [
    "# find rows in df_index_data but not in df_index_processed\n",
    "diff = pd.concat([df_index_data, df_index_processed[:-2]]).drop_duplicates(keep=False)\n",
    "print(diff)"
   ]
  },
  {
   "cell_type": "code",
   "execution_count": 26,
   "metadata": {},
   "outputs": [
    {
     "name": "stdout",
     "output_type": "stream",
     "text": [
      "          Index        Date          Open          High           Low  \\\n",
      "0           HSI  1986-12-31   2568.300049   2568.300049   2568.300049   \n",
      "1           HSI  1987-01-02   2540.100098   2540.100098   2540.100098   \n",
      "2           HSI  1987-01-05   2552.399902   2552.399902   2552.399902   \n",
      "3           HSI  1987-01-06   2583.899902   2583.899902   2583.899902   \n",
      "4           HSI  1987-01-07   2607.100098   2607.100098   2607.100098   \n",
      "...         ...         ...           ...           ...           ...   \n",
      "104219  J203.JO  2021-05-25  66054.921880  66812.453130  66022.976560   \n",
      "104220  J203.JO  2021-05-26  66076.679690  66446.367190  66030.351560   \n",
      "104221  J203.JO  2021-05-27  66108.226560  66940.250000  66102.546880   \n",
      "104222  J203.JO  2021-05-28  66940.250000  67726.562500  66794.609380   \n",
      "104223  J203.JO  2021-05-31  67554.859380  68140.851560  67554.859380   \n",
      "\n",
      "               Close     Adj Close  Volume     CloseUSD        Region  \\\n",
      "0        2568.300049   2568.300049     0.0   333.879006     Hong Kong   \n",
      "1        2540.100098   2540.100098     0.0   330.213013     Hong Kong   \n",
      "2        2552.399902   2552.399902     0.0   331.811987     Hong Kong   \n",
      "3        2583.899902   2583.899902     0.0   335.906987     Hong Kong   \n",
      "4        2607.100098   2607.100098     0.0   338.923013     Hong Kong   \n",
      "...              ...           ...     ...          ...           ...   \n",
      "104219  66076.679690  66076.679690     0.0  4625.367578  South Africa   \n",
      "104220  66108.226560  66108.226560     0.0  4627.575859  South Africa   \n",
      "104221  66940.250000  66940.250000     0.0  4685.817500  South Africa   \n",
      "104222  67554.859380  67554.859380     0.0  4728.840157  South Africa   \n",
      "104223  67964.039060  67964.039060     0.0  4757.482734  South Africa   \n",
      "\n",
      "                           Exchange  \n",
      "0          Hong Kong Stock Exchange  \n",
      "1          Hong Kong Stock Exchange  \n",
      "2          Hong Kong Stock Exchange  \n",
      "3          Hong Kong Stock Exchange  \n",
      "4          Hong Kong Stock Exchange  \n",
      "...                             ...  \n",
      "104219  Johannesburg Stock Exchange  \n",
      "104220  Johannesburg Stock Exchange  \n",
      "104221  Johannesburg Stock Exchange  \n",
      "104222  Johannesburg Stock Exchange  \n",
      "104223  Johannesburg Stock Exchange  \n",
      "\n",
      "[104224 rows x 11 columns]\n"
     ]
    }
   ],
   "source": [
    "df_index_info_without_currency = df_index_info.drop(columns='Currency')\n",
    "\n",
    "df_all_info = pd.merge(df_index_processed, df_index_info_without_currency, how='left', on='Index')\n",
    "print(df_all_info)"
   ]
  },
  {
   "cell_type": "code",
   "execution_count": 11,
   "metadata": {},
   "outputs": [
    {
     "name": "stdout",
     "output_type": "stream",
     "text": [
      "Null count \n",
      " Index           0\n",
      "Date            0\n",
      "Open         2204\n",
      "High         2204\n",
      "Low          2204\n",
      "Close        2204\n",
      "Adj Close    2204\n",
      "Volume       2204\n",
      "dtype: int64 \n",
      "\n",
      "rows with nulls \n",
      "        Index       Date  Open  High  Low  Close  Adj Close  Volume\n",
      "289      NYA 1967-02-23   NaN   NaN  NaN    NaN        NaN     NaN\n",
      "26639    HSI 1987-01-01   NaN   NaN  NaN    NaN        NaN     NaN\n",
      "26659    HSI 1987-01-29   NaN   NaN  NaN    NaN        NaN     NaN\n",
      "26660    HSI 1987-01-30   NaN   NaN  NaN    NaN        NaN     NaN\n",
      "26706    HSI 1987-04-06   NaN   NaN  NaN    NaN        NaN     NaN\n",
      "...      ...        ...   ...   ...  ...    ...        ...     ...\n",
      "108316  N100 2005-03-28   NaN   NaN  NaN    NaN        NaN     NaN\n",
      "108511  N100 2005-12-26   NaN   NaN  NaN    NaN        NaN     NaN\n",
      "110051  N100 2012-01-02   NaN   NaN  NaN    NaN        NaN     NaN\n",
      "110643  N100 2014-05-01   NaN   NaN  NaN    NaN        NaN     NaN\n",
      "112090  N100 2019-12-25   NaN   NaN  NaN    NaN        NaN     NaN\n",
      "\n",
      "[2204 rows x 8 columns] \n",
      "\n",
      "Invalid dates:\n",
      " Empty DataFrame\n",
      "Columns: [Index, Date, Open, High, Low, Close, Adj Close, Volume]\n",
      "Index: []\n"
     ]
    }
   ],
   "source": [
    "# Data Cleaning and Preprocessing\n",
    "\n",
    "null_count = df_index_processed.isnull().sum()\n",
    "print(\"Null count \\n\", null_count)\n",
    "\n",
    "rows_with_nulls = df_index_processed[df_index_processed.isnull().any(axis=1)]\n",
    "print(\"rows with nulls \\n\", rows_with_nulls)\n",
    "\n",
    "df_index_processed[\"Date\"] = pd.to_datetime(df_index_processed[\"Date\"], errors=\"coerce\")\n",
    "invalid_dates = df_index_processed[df_index_processed[\"Date\"].isnull()]\n",
    "print(\"Invalid dates:\\n\", invalid_dates)"
   ]
  }
 ],
 "metadata": {
  "kernelspec": {
   "display_name": "Python 3",
   "language": "python",
   "name": "python3"
  },
  "language_info": {
   "codemirror_mode": {
    "name": "ipython",
    "version": 3
   },
   "file_extension": ".py",
   "mimetype": "text/x-python",
   "name": "python",
   "nbconvert_exporter": "python",
   "pygments_lexer": "ipython3",
   "version": "3.12.4"
  }
 },
 "nbformat": 4,
 "nbformat_minor": 2
}
